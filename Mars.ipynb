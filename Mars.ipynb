{
 "cells": [
  {
   "cell_type": "code",
   "execution_count": null,
   "metadata": {},
   "outputs": [],
   "source": [
    "from splinter import Browser\n",
    "from bs4 import BeautifulSoup\n",
    "import pandas as pd\n",
    "import requests\n",
    "import pymongo\n",
    "from flask import Flask, render_template, redirect\n",
    "from flask_pymongo import PyMongo"
   ]
  },
  {
   "cell_type": "code",
   "execution_count": null,
   "metadata": {},
   "outputs": [],
   "source": [
    "executable_path = {'executable_path': 'chromedriver.exe'}\n",
    "browser = Browser('chrome', **executable_path, headless=False)"
   ]
  },
  {
   "cell_type": "code",
   "execution_count": null,
   "metadata": {},
   "outputs": [],
   "source": [
    "news_url = 'https://mars.nasa.gov/news/'\n",
    "browser.visit(news_url)\n",
    "html = browser.html\n",
    "news_bsoup = BeautifulSoup(html, 'html.parser')"
   ]
  },
  {
   "cell_type": "code",
   "execution_count": null,
   "metadata": {},
   "outputs": [],
   "source": [
    "news_tit = news_bsoup.find_all('div', class_='content_title')[0].text\n",
    "news_pa = news_bsoup.find_all('div', class_='article_teaser_body')[0].text\n",
    "print(news_tit)\n",
    "print(\"--------------------------------------------------------------------\")\n",
    "print(news_pa)"
   ]
  },
  {
   "cell_type": "code",
   "execution_count": null,
   "metadata": {},
   "outputs": [],
   "source": [
    "jplnasa_url = 'https://www.jpl.nasa.gov'\n",
    "img_url = 'https://www.jpl.nasa.gov/spaceimages/?search=&category=Mars'\n",
    "browser.visit(img_url)\n",
    "img_html = browser.html\n",
    "img_bsoup = BeautifulSoup(html, 'html.parser')"
   ]
  },
  {
   "cell_type": "code",
   "execution_count": null,
   "metadata": {},
   "outputs": [],
   "source": [
    "relative_img_path = img_bsoup.find_all('img')[3][\"src\"]\n",
    "featured_img_url = jplnasa_url + relative_img_path\n",
    "print(featured_img_url)"
   ]
  },
  {
   "cell_type": "code",
   "execution_count": null,
   "metadata": {},
   "outputs": [],
   "source": [
    "wthr_url = 'https://twitter.com/marswxreport?lang=en'\n",
    "browser.visit(wthr_url)\n",
    "wthr_html = browser.html\n",
    "wthr_bsoup = BeautifulSoup(wthr_html, 'html.parser')"
   ]
  },
  {
   "cell_type": "code",
   "execution_count": null,
   "metadata": {},
   "outputs": [],
   "source": [
    "mars_wthr = wthr_bsoup.find_all('p', class_='TweetTextSize TweetTextSize--normal js-tweet-text tweet-text')[0].text"
   ]
  },
  {
   "cell_type": "code",
   "execution_count": null,
   "metadata": {},
   "outputs": [],
   "source": [
    "fts_url = 'https://space-facts.com/mars/'\n",
    "tables = pd.read_html(fts_url)"
   ]
  },
  {
   "cell_type": "code",
   "execution_count": null,
   "metadata": {},
   "outputs": [],
   "source": [
    "fts_df = tables[2]\n",
    "fts_df.columns = [\"Description\", \"Value\"]"
   ]
  },
  {
   "cell_type": "code",
   "execution_count": null,
   "metadata": {},
   "outputs": [],
   "source": [
    "marshtml_table = fts_df.to_html()\n",
    "marshtml_table.replace('\\n', '')\n",
    "print(marshtml_table)"
   ]
  },
  {
   "cell_type": "code",
   "execution_count": null,
   "metadata": {},
   "outputs": [],
   "source": [
    "astro_url = 'https://astrogeology.usgs.gov'\n",
    "hemispheres_url = 'https://astrogeology.usgs.gov/search/results?q=hemisphere+enhanced&k1=target&v1=Mars'\n",
    "browser.visit(hemispheres_url)\n",
    "astro_html = browser.html\n",
    "astro_bsoup = BeautifulSoup(hemiispheres_html, 'html.parser')"
   ]
  },
  {
   "cell_type": "code",
   "execution_count": null,
   "metadata": {},
   "outputs": [],
   "source": [
    "ahemispheres = astro_bsoup.find('div', class_='collapsible results')\n",
    "marshemi = ahemispheres.find_all('div', class_='item')\n",
    "\n",
    "hemisphere_img_urls = []\n",
    "\n",
    "for i in mars_hemi:\n",
    "    hemi = i.find('div', class_=\"description\")\n",
    "    title = hemi.h3.text\n",
    "    \n",
    "    hemi_link = hemi.a[\"href\"]    \n",
    "    browser.visit(astro_url + hemisphere_link)\n",
    "    \n",
    "    img_html = browser.html\n",
    "    img_bsoup = BeautifulSoup(img_html, 'html.parser')\n",
    "    \n",
    "    img_link = img_bsoup.find('div', class_='downloads')\n",
    "    img_url = img_link.find('li').a['href']\n",
    "\n",
    "    img_dict = {}\n",
    "    img_dict['title'] = title\n",
    "    img_dict['img_url'] = img_url\n",
    "    \n",
    "    hemi_img_urls.append(img_dict)\n",
    "\n",
    "print(hemi_img_urls)"
   ]
  },
  {
   "cell_type": "code",
   "execution_count": null,
   "metadata": {},
   "outputs": [],
   "source": [
    "mars_dict = {\n",
    "        \"news_tit\": news_title,\n",
    "        \"news_pa\": news_p,\n",
    "        \"featured_img_url\": featured_image_url,\n",
    "        \"mars_wthr\": mars_weather,\n",
    "        \"ft_table\": str(marshtml_table),\n",
    "        \"hemisphere_images\": hemi_img_urls\n",
    "    }"
   ]
  },
  {
   "cell_type": "code",
   "execution_count": null,
   "metadata": {},
   "outputs": [],
   "source": []
  }
 ],
 "metadata": {
  "kernelspec": {
   "display_name": "Python 3",
   "language": "python",
   "name": "python3"
  },
  "language_info": {
   "codemirror_mode": {
    "name": "ipython",
    "version": 3
   },
   "file_extension": ".py",
   "mimetype": "text/x-python",
   "name": "python",
   "nbconvert_exporter": "python",
   "pygments_lexer": "ipython3",
   "version": "3.7.3"
  }
 },
 "nbformat": 4,
 "nbformat_minor": 4
}
